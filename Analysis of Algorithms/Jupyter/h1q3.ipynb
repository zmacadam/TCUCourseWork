{
 "cells": [
  {
   "cell_type": "markdown",
   "metadata": {},
   "source": [
    "# Zach Macadam"
   ]
  },
  {
   "cell_type": "markdown",
   "metadata": {},
   "source": [
    "# Homework 1: Question 3: Comparison of Merge Sort and Selection Sort"
   ]
  },
  {
   "cell_type": "markdown",
   "metadata": {},
   "source": [
    "from IPython.display import Latex"
   ]
  },
  {
   "cell_type": "markdown",
   "metadata": {},
   "source": [
    "Cost-model equation for the running time of Selection-Sort\n",
    "\n",
    "| <div style=\"width:200px\">Selection Sort</div> | Cost | Times |\n",
    "| :--- | :--- | :--: |\n",
    "| for (j = 1; j < n; j++) | C1 | n |\n",
    "| &emsp; int Min = j; | C2 | n-1 |\n",
    "| &emsp; for (i = j + 1; i <= n; i++) | C3 | $\\frac{n(n+1)}{2}$ |\n",
    "| &emsp;&emsp; if (a[i] < a[Min]) | C4 | $\\frac{n(n-1)}{2}$ |\n",
    "| &emsp;&emsp;&emsp; Min = i; | C5 | $\\frac{n(n-1)}{2}$ - (n-1) |\n",
    "| &emsp; if (Min != j) | C6 | n-1 |\n",
    "| &emsp;&emsp;&emsp; swap(a[j], a[Min]); | C7 | 3 * A : {n - 1 >= A >= 0}\n",
    "\n",
    "T(n) = C<sub>1</sub>n + C<sub>2</sub>(n-1) + C<sub>3</sub>$\\frac{n(n+1)}{2}$ + C<sub>4</sub>$\\frac{n(n-1)}{2}$ + C<sub>5</sub> ($\\frac{n(n-1)}{2}$-(n-1)) + C<sub>6</sub>(n-1) + C<sub>7</sub>(n-1)\\\n",
    "T(n) = [C<sub>3</sub> + C<sub>4</sub> + $\\frac{C5}{2}$]n<sup>2</sup> + [C<sub>1</sub> + C<sub>2</sub> + $\\frac{C3}{2}$ - $\\frac{C4}{2}$ + C<sub>5</sub> + C<sub>6</sub> + C<sub>7</sub>]n + [c<sub>2</sub> + c<sub>5</sub> - c<sub>6</sub> c<sub>7</sub>]\\\n",
    "T(n) = an<sup>2</sup> + bn + c\\\n",
    "T(n) = $\\Theta$(n<sup>2</sup>)"
   ]
  },
  {
   "cell_type": "markdown",
   "metadata": {},
   "source": [
    "The best case and worst case number of comparisons are the same.\\\n",
    "T(n) = [$\\frac{C3}{2}$ + $\\frac{C4}{2}$]n<sup>2</sup> + [C1 + $\\frac{C3}{2}$ - $\\frac{C4}{2}$ + C6]n - C6\\\n",
    "T(n) = $\\Theta$(n<sup>2</sup>)"
   ]
  },
  {
   "cell_type": "markdown",
   "metadata": {},
   "source": [
    "The equation for the worst case number of data exchanges.\\\n",
    "T(n) = C2(n - 1) + C5($\\frac{n(n-1)}{2}$ + 3C7(n - 1)\\\n",
    "T(n) = $\\frac{C5}{2}$n<sup>2</sup> + [C2 - $\\frac{C5}{2}$ + 3C7]n - [C2 - 3C7]\\\n",
    "T(n) = an<sup>2</sup> + bn - c\\\n",
    "T(n) = $\\Theta$(n<sup>2</sup>)"
   ]
  },
  {
   "cell_type": "code",
   "execution_count": 7,
   "metadata": {},
   "outputs": [
    {
     "name": "stdout",
     "output_type": "stream",
     "text": [
      "Merge sort is faster at n = 23\n"
     ]
    }
   ],
   "source": [
    "def selectionSort(a):\n",
    "    for i in range(len(a)):\n",
    "        min = i\n",
    "        for j in range(i+1, len(a)):\n",
    "            if a[min] > a[j]:\n",
    "                min = j\n",
    "        temp = a[i]\n",
    "        a[i] = a[min]\n",
    "        a[min] = temp\n",
    "    return a\n",
    "\n",
    "def mergeSort(a):\n",
    "    if len(a)>1:\n",
    "        mid = len(a)//2\n",
    "        lefthalf = a[:mid]\n",
    "        righthalf = a[mid:]\n",
    "\n",
    "        mergeSort(lefthalf)\n",
    "        mergeSort(righthalf)\n",
    "\n",
    "        i=0\n",
    "        j=0\n",
    "        k=0\n",
    "        while i < len(lefthalf) and j < len(righthalf):\n",
    "            if lefthalf[i] <= righthalf[j]:\n",
    "                a[k]=lefthalf[i]\n",
    "                i=i+1\n",
    "            else:\n",
    "                a[k]=righthalf[j]\n",
    "                j=j+1\n",
    "            k=k+1\n",
    "\n",
    "        while i < len(lefthalf):\n",
    "            a[k]=lefthalf[i]\n",
    "            i=i+1\n",
    "            k=k+1\n",
    "\n",
    "        while j < len(righthalf):\n",
    "            a[k]=righthalf[j]\n",
    "            j=j+1\n",
    "            k=k+1\n",
    "    return a\n",
    "\n",
    "def rand_list(n):\n",
    "    from random import randrange\n",
    "    rand_list = []\n",
    "    for i in range(0,n):\n",
    "        rand_list.append(randrange(10000))\n",
    "    return rand_list\n",
    "\n",
    "def main():\n",
    "    import time\n",
    "    random_list = rand_list(1000)\n",
    "    for i in range (1,1000):\n",
    "        selection_list = random_list[:i]\n",
    "        startS = time.time()\n",
    "        selectionSort(selection_list)\n",
    "        endS = time.time()\n",
    "        merge_list = random_list[:i]\n",
    "        startM = time.time()\n",
    "        mergeSort(merge_list)\n",
    "        endM = time.time()\n",
    "        selectionTime = endS - startS\n",
    "        mergeTime = endM - startM\n",
    "        if mergeTime < selectionTime:\n",
    "            return i\n",
    "\n",
    "print('Merge sort is faster at n = ' + str(main()))"
   ]
  },
  {
   "cell_type": "code",
   "execution_count": null,
   "metadata": {},
   "outputs": [],
   "source": []
  }
 ],
 "metadata": {
  "celltoolbar": "Raw Cell Format",
  "kernelspec": {
   "display_name": "Python 3",
   "language": "python",
   "name": "python3"
  },
  "language_info": {
   "codemirror_mode": {
    "name": "ipython",
    "version": 3
   },
   "file_extension": ".py",
   "mimetype": "text/x-python",
   "name": "python",
   "nbconvert_exporter": "python",
   "pygments_lexer": "ipython3",
   "version": "3.7.3"
  }
 },
 "nbformat": 4,
 "nbformat_minor": 2
}
