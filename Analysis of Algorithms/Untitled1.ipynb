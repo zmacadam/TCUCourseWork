{
 "cells": [
  {
   "cell_type": "code",
   "execution_count": 17,
   "metadata": {},
   "outputs": [
    {
     "name": "stdout",
     "output_type": "stream",
     "text": [
      "Enter number of points: 20\n"
     ]
    },
    {
     "data": {
      "image/png": "[encoded data removed]",
      "text/plain": [
       "<Figure size 432x288 with 1 Axes>"
      ]
     },
     "metadata": {
      "needs_background": "light"
     },
     "output_type": "display_data"
    },
    {
     "data": {
      "image/png": "[encoded data removed]",
      "text/plain": [
       "<Figure size 432x288 with 1 Axes>"
      ]
     },
     "metadata": {
      "needs_background": "light"
     },
     "output_type": "display_data"
    }
   ],
   "source": [
    "import numpy as np\n",
    "import matplotlib.pyplot as plt\n",
    "from functools import reduce\n",
    "\n",
    "points = []\n",
    "xcoords = []\n",
    "ycoords = []\n",
    "\n",
    "class point: \n",
    "    def __init__(self, x, y):\n",
    "        self.x = x\n",
    "        self.y = y\n",
    "        self.polar = 0\n",
    "    def __lt__(self, other):\n",
    "        return self.x < other.x\n",
    "\n",
    "def scatter(n):\n",
    "    for i in range(0,n):\n",
    "        point.x = np.random.randint(100)\n",
    "        point.y = np.random.randint(100)\n",
    "        xcoords.append(point.x)\n",
    "        ycoords.append(point.y)\n",
    "        points.append(point(point.x,point.y))\n",
    "    plt.scatter(xcoords, ycoords)\n",
    "    plt.show()\n",
    "\n",
    "def convex_hull_graham(points):\n",
    "    '''\n",
    "    Returns points on convex hull in CCW order according to Graham's scan algorithm. \n",
    "    By Tom Switzer <thomas.switzer@gmail.com>.\n",
    "    '''\n",
    "    TURN_LEFT, TURN_RIGHT, TURN_NONE = (1, -1, 0)\n",
    "\n",
    "    def cmp(a, b):\n",
    "        return (a > b) - (a < b)\n",
    "\n",
    "    def turn(p, q, r):\n",
    "        return cmp((q.x - p.x)*(r.y - p.y) - (r.x - p.x)*(q.y - p.y), 0)\n",
    "\n",
    "    def _keep_left(hull, r):\n",
    "        while len(hull) > 1 and turn(hull[-2], hull[-1], r) != TURN_LEFT:\n",
    "            hull.pop()\n",
    "        if not len(hull) or hull[-1] != r:\n",
    "            hull.append(r)\n",
    "        return hull\n",
    "\n",
    "    points = sorted(points)\n",
    "    l = reduce(_keep_left, points, [])\n",
    "    u = reduce(_keep_left, reversed(points), [])\n",
    "    return l.extend(u[i] for i in range(1, len(u) - 1)) or l\n",
    "\n",
    "n = int(input(\"Enter number of points: \"))\n",
    "scatter(n)\n",
    "ans = convex_hull_graham(points)\n",
    "axc = []\n",
    "ayc = []\n",
    "for obj in ans:\n",
    "    axc.append(obj.x)\n",
    "    ayc.append(obj.y)\n",
    "plt.plot(axc, ayc)\n",
    "plt.show()"
   ]
  },
  {
   "cell_type": "markdown",
   "metadata": {},
   "source": [
    "## "
   ]
  },
  {
   "cell_type": "code",
   "execution_count": null,
   "metadata": {},
   "outputs": [],
   "source": []
  }
 ],
 "metadata": {
  "kernelspec": {
   "display_name": "Python 3",
   "language": "python",
   "name": "python3"
  },
  "language_info": {
   "codemirror_mode": {
    "name": "ipython",
    "version": 3
   },
   "file_extension": ".py",
   "mimetype": "text/x-python",
   "name": "python",
   "nbconvert_exporter": "python",
   "pygments_lexer": "ipython3",
   "version": "3.7.3"
  }
 },
 "nbformat": 4,
 "nbformat_minor": 2
}
