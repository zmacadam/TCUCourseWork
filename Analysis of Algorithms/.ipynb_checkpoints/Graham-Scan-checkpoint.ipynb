{
 "cells": [
  {
   "cell_type": "code",
   "execution_count": 25,
   "metadata": {
    "scrolled": false
   },
   "outputs": [
    {
     "name": "stdout",
     "output_type": "stream",
     "text": [
      "Enter number of points: 30\n"
     ]
    },
    {
     "data": {
      "image/png": "[encoded data removed]",
      "text/plain": [
       "<Figure size 432x288 with 1 Axes>"
      ]
     },
     "metadata": {
      "needs_background": "light"
     },
     "output_type": "display_data"
    },
    {
     "name": "stdout",
     "output_type": "stream",
     "text": [
      "point 1: 585, 8\n",
      "point 2: 948, 42\n",
      "point 3: 984, 162\n",
      "point 4: 975, 437\n",
      "point 5: 607, 884\n",
      "point 6: 495, 938\n",
      "point 7: 31, 979\n",
      "point 8: 19, 831\n",
      "point 9: 48, 282\n"
     ]
    },
    {
     "data": {
      "image/png": "[encoded data removed]",
      "text/plain": [
       "<Figure size 432x288 with 1 Axes>"
      ]
     },
     "metadata": {
      "needs_background": "light"
     },
     "output_type": "display_data"
    }
   ],
   "source": [
    "#Zach Macadam\n",
    "#COSC 40403\n",
    "#12/15/2019\n",
    "\n",
    "#Program to implement Graham-Scan for convex hull plotting\n",
    "#Pseudocode from textbook\n",
    "\n",
    "import numpy as np\n",
    "import matplotlib.pyplot as plt\n",
    "import math\n",
    "\n",
    "points = []\n",
    "xcoords = []\n",
    "ycoords = []\n",
    "\n",
    "class point:\n",
    "    def __init__(self, x, y):\n",
    "        self.x = x\n",
    "        self.y = y\n",
    "        self.polar = 0\n",
    "        self.distance = 0\n",
    "        \n",
    "def find_p0(points):\n",
    "    min_y = float(\"inf\")\n",
    "    min_index = 0\n",
    "    for i, point in enumerate(points):\n",
    "        if point.y < min_y:\n",
    "            min_y = point.y\n",
    "            min_index = i\n",
    "        if point.y == min_y:\n",
    "            if point.x < points[min_index].x:\n",
    "                min_index = i\n",
    "    return points[min_index], min_index\n",
    "\n",
    "def scatter(n):\n",
    "    for i in range(0,n):\n",
    "        point.x = np.random.randint(1000)\n",
    "        point.y = np.random.randint(1000)\n",
    "        xcoords.append(point.x)\n",
    "        ycoords.append(point.y)\n",
    "        points.append(point(point.x,point.y))\n",
    "    plt.scatter(xcoords, ycoords)\n",
    "    plt.show()\n",
    "    \n",
    "def polar_angle(p0, p1):\n",
    "    y_span = p1.y - p0.y\n",
    "    x_span = p1.x - p0.x\n",
    "    return atan2(y_span, x_span)\n",
    "\n",
    "def distance(p0, p1):\n",
    "    return math.sqrt((p1.x - p0.x)**2 + (p1.y - p0.y)**2)\n",
    "\n",
    "def calc_angle(p1, p2, p3):\n",
    "    return((p2.x - p1.x)*(p3.y - p1.y)-(p2.y - p1.y)*(p3.x - p1.x))\n",
    "    \n",
    "def graham_scan(points):\n",
    "    p0, index = find_p0(points)\n",
    "    points[0], points[index] = points[index], points[0]\n",
    "    for i in range(1, len(points)):\n",
    "        pa = polar_angle(p0, points[i])\n",
    "        d = distance(p0, points[i])\n",
    "        points[i].polar = pa\n",
    "        points[i].distance = d\n",
    "    points.sort(key=lambda p1: (p1.polar, p1.distance))\n",
    "    remove = []\n",
    "    for i in range(1, len(points) - 1):\n",
    "        if (calc_angle(points[i], points[i+1], p0) == 0):\n",
    "            remove.append(i)\n",
    "    points = [i for j, i in enumerate(points) if j not in remove]\n",
    "    if len(points) < 2:\n",
    "        print('Convex hull is empty!')\n",
    "    else: \n",
    "        p1 = points[1]\n",
    "        p2 = points[2]\n",
    "        stack = []\n",
    "        stack.append(p0)\n",
    "        stack.append(p1) #next to top\n",
    "        stack.append(p2) #top\n",
    "        for i in range(3, len(points)):\n",
    "            while(len(stack) > 1 and calc_angle(stack[-2], stack[-1], points[i]) <= 0):\n",
    "                stack.pop()\n",
    "            stack.append(points[i])\n",
    "    return stack\n",
    "\n",
    "def __main__():\n",
    "    n = int(input(\"Enter number of points: \"))\n",
    "    scatter(n)\n",
    "    ans = graham_scan(points)\n",
    "    axc = []\n",
    "    ayc = []\n",
    "    for i, obj in enumerate(ans):\n",
    "        print(\"point %d: %d, %d\" % (i+1, obj.x, obj.y))\n",
    "        axc.append(obj.x)\n",
    "        ayc.append(obj.y)\n",
    "    axc.append(axc[0])\n",
    "    ayc.append(ayc[0])\n",
    "    plt.scatter(axc, ayc)\n",
    "    plt.plot(axc, ayc)\n",
    "    plt.show()\n",
    "    \n",
    "__main__()\n",
    "\n",
    "\n",
    "        \n"
   ]
  },
  {
   "cell_type": "markdown",
   "metadata": {},
   "source": [
    " "
   ]
  },
  {
   "cell_type": "markdown",
   "metadata": {},
   "source": []
  }
 ],
 "metadata": {
  "kernelspec": {
   "display_name": "Python 3",
   "language": "python",
   "name": "python3"
  },
  "language_info": {
   "codemirror_mode": {
    "name": "ipython",
    "version": 3
   },
   "file_extension": ".py",
   "mimetype": "text/x-python",
   "name": "python",
   "nbconvert_exporter": "python",
   "pygments_lexer": "ipython3",
   "version": "3.7.3"
  }
 },
 "nbformat": 4,
 "nbformat_minor": 2
}
