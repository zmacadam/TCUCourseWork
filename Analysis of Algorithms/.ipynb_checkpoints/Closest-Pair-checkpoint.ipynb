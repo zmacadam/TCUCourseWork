{
 "cells": [
  {
   "cell_type": "code",
   "execution_count": 115,
   "metadata": {},
   "outputs": [
    {
     "name": "stdout",
     "output_type": "stream",
     "text": [
      "Enter number of points: 492\n",
      "The closest pair of points is: (446, 963) and (448, 963)\n",
      "Their distance is 2.000000\n"
     ]
    },
    {
     "data": {
      "image/png": "[encoded data removed]",
      "text/plain": [
       "<Figure size 432x288 with 1 Axes>"
      ]
     },
     "metadata": {
      "needs_background": "light"
     },
     "output_type": "display_data"
    }
   ],
   "source": [
    "#Zach Macadam\n",
    "#COSC 40403\n",
    "#12/15/2019\n",
    "\n",
    "#Program to implement closest-pair between points on a graph\n",
    "#Pseudocode from http://www.cs.toronto.edu/~vassos/teaching/c73/handouts/closest-pair-of-points.pdf\n",
    "\n",
    "import numpy as np\n",
    "import matplotlib.pyplot as plt\n",
    "import math\n",
    "\n",
    "points = []\n",
    "xcoords = []\n",
    "ycoords = []\n",
    "\n",
    "class point:\n",
    "    def __init__(self, x, y):\n",
    "        self.x = x\n",
    "        self.y = y\n",
    "\n",
    "def distance(p1,p2):\n",
    "    return math.sqrt((p2.x - p1.x)**2 + (p2.y - p1.y)**2)\n",
    "\n",
    "def bruteforce_closest_pair(p, n):\n",
    "    d_min = float(\"inf\")\n",
    "    for i in range(0, n-1):\n",
    "        for j in range(i+1, n):\n",
    "            d = distance(p[i],p[j])\n",
    "            if d < d_min:\n",
    "                d_min = d\n",
    "                index1 = i\n",
    "                index2 = j\n",
    "    return index1, index2\n",
    "\n",
    "def closest_pair(points):\n",
    "    px = sorted(points, key=lambda p1: p1.x)\n",
    "    py = sorted(points, key=lambda p1: p1.y)\n",
    "    return rcp(px, py)\n",
    "\n",
    "def rcp(px, py):\n",
    "    if len(px) <= 3:\n",
    "        p1, p2 = bruteforce_closest_pair(px, len(px))\n",
    "        return px[p1], px[p2]\n",
    "    else:\n",
    "        num_points = len(px)\n",
    "        left_size = math.ceil(num_points/2)\n",
    "        right_size = math.floor(num_points/2)\n",
    "        lx = px[:left_size]\n",
    "        rx = px[right_size:]\n",
    "        m = (max(point.x for point in lx) + min(point.x for point in rx))/2\n",
    "        ly = sorted(lx, key=lambda p1: p1.y)\n",
    "        ry = sorted(rx, key=lambda p1: p1.y)\n",
    "        pl, ql = rcp(lx, ly)\n",
    "        pr, qr = rcp(rx, ry)\n",
    "        delta = min(distance(pl, ql), distance(pr, qr))\n",
    "        left_rectangle = m-delta\n",
    "        right_rectangle = m+delta\n",
    "        b = []\n",
    "        for i in py:\n",
    "            if left_rectangle <= i.x <= right_rectangle:\n",
    "                b.append(i)\n",
    "        if (len(b) <= 1):\n",
    "            if distance(pl, ql) <= distance(pr, qr):\n",
    "                return (pl, ql)\n",
    "            else:\n",
    "                return (pr, qr)\n",
    "        else:\n",
    "            p1 = b[0]\n",
    "            q1 = b[1]\n",
    "            for i in range(0, len(b)):\n",
    "                for j in range(i+1, len(b)):\n",
    "                    if distance(b[i], b[j]) < distance(p1, q1):\n",
    "                        p1,q1 = b[i],b[j]\n",
    "            if distance(p1, q1) < delta:\n",
    "                return (p1,q1)\n",
    "            elif distance(pl, ql) <= distance(pr, qr):\n",
    "                return (pl,ql)\n",
    "            else:\n",
    "                return(pr, qr)\n",
    "            \n",
    "    \n",
    "        \n",
    "def scatter(n):\n",
    "    for i in range(0,n):\n",
    "        point.x = np.random.randint(1000)\n",
    "        point.y = np.random.randint(1000)\n",
    "        xcoords.append(point.x)\n",
    "        ycoords.append(point.y)\n",
    "        points.append(point(point.x,point.y))\n",
    "    \n",
    "def __main__():\n",
    "    n = int(input(\"Enter number of points: \"))\n",
    "    scatter(n)\n",
    "    a,b = closest_pair(points)\n",
    "    print(\"The closest pair of points is:\", \"(%d, %d) and (%d, %d)\" % (a.x, a.y, b.x, b.y))\n",
    "    print(\"Their distance is %f\" % distance(a, b))\n",
    "    plt.scatter(xcoords, ycoords, c='black')\n",
    "    plt.scatter(a.x, a.y, c='red')\n",
    "    plt.scatter(b.x, b.y, c='red')\n",
    "    \n",
    "__main__()"
   ]
  },
  {
   "cell_type": "markdown",
   "metadata": {},
   "source": [
    "## "
   ]
  },
  {
   "cell_type": "markdown",
   "metadata": {},
   "source": [
    "### "
   ]
  }
 ],
 "metadata": {
  "kernelspec": {
   "display_name": "Python 3",
   "language": "python",
   "name": "python3"
  },
  "language_info": {
   "codemirror_mode": {
    "name": "ipython",
    "version": 3
   },
   "file_extension": ".py",
   "mimetype": "text/x-python",
   "name": "python",
   "nbconvert_exporter": "python",
   "pygments_lexer": "ipython3",
   "version": "3.7.3"
  }
 },
 "nbformat": 4,
 "nbformat_minor": 2
}
